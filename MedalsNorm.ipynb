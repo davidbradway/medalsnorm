{
 "cells": [
  {
   "cell_type": "markdown",
   "metadata": {},
   "source": [
    "# 2016 Summer Olympic Games in Rio\n",
    "## Analysis of Medal Counts Normalized by GDP or Population"
   ]
  },
  {
   "cell_type": "code",
   "execution_count": 106,
   "metadata": {
    "collapsed": false,
    "nbpresent": {
     "id": "ce3dd29c-c38e-4d8c-a7f7-427d716b54b2"
    }
   },
   "outputs": [
    {
     "data": {
      "text/html": [
       "<div style='margin-top:8px'><img src='data:image/png;base64,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' width='30px' height='35px' style='display: inline-block; padding-right: 10px'></img><span>Lightning initialized</span></div>"
      ],
      "text/plain": [
       "<IPython.core.display.HTML object>"
      ]
     },
     "metadata": {},
     "output_type": "display_data"
    },
    {
     "name": "stdout",
     "output_type": "stream",
     "text": [
      "Connected to server at http://public.lightning-viz.org\n"
     ]
    },
    {
     "data": {
      "application/javascript": [
       "(function e(t,n,r){function s(o,u){if(!n[o]){if(!t[o]){var a=typeof require==\"function\"&&require;if(!u&&a)return a(o,!0);if(i)return i(o,!0);throw new Error(\"Cannot find module '\"+o+\"'\")}var f=n[o]={exports:{}};t[o][0].call(f.exports,function(e){var n=t[o][1][e];return s(n?n:e)},f,f.exports,e,t,n,r)}return n[o].exports}var i=typeof require==\"function\"&&require;for(var o=0;o<r.length;o++)s(r[o]);return s})({1:[function(require,module,exports){\n",
       "window.lightning = window.lightning || {};\n",
       "var lightningCommMap = {};\n",
       "var IPython = window.IPython;\n",
       "\n",
       "var readCommData = function(commData, field) {\n",
       "    try {\n",
       "        return commData.content.data[field];\n",
       "    } catch (err) {\n",
       "        return;\n",
       "    }\n",
       "};\n",
       "\n",
       "\n",
       "var init_comm = function() {\n",
       "    IPython.notebook.kernel.comm_manager.register_target('lightning', function(comm, data) {\n",
       "        var id = readCommData(data, 'id');\n",
       "        lightningCommMap[id] = comm;\n",
       "    });\n",
       "\n",
       "    window.lightning.comm_map = lightningCommMap;\n",
       "}\n",
       "\n",
       "\n",
       "if(IPython && IPython.notebook) {\n",
       "\n",
       "    if(IPython.notebook.kernel) {\n",
       "        init_comm();\n",
       "    }\n",
       "\n",
       "    IPython.notebook.events.on('kernel_connected.Kernel', init_comm);\n",
       "\n",
       "}\n",
       "\n",
       "\n",
       "},{}]},{},[1])\n",
       "//# sourceMappingURL=data:application/json;base64,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\n"
      ],
      "text/plain": [
       "<IPython.core.display.Javascript object>"
      ]
     },
     "metadata": {},
     "output_type": "display_data"
    }
   ],
   "source": [
    "import os\n",
    "import pickle\n",
    "import sys\n",
    "import numpy as np\n",
    "import pandas as pd\n",
    "from lightning import Lightning\n",
    "lgn = Lightning(ipython=True, host='http://public.lightning-viz.org')"
   ]
  },
  {
   "cell_type": "code",
   "execution_count": 69,
   "metadata": {
    "collapsed": true,
    "nbpresent": {
     "id": "5e913202-e0a7-4c98-9779-9ace203a1968"
    }
   },
   "outputs": [],
   "source": [
    "# Dict of country codes\n",
    "codes = {'Afghanistan': 'AFG', 'Albania': 'ALB', 'Algeria': 'DZA', \n",
    "         'American Samoa': 'ASM', 'Angola': 'AGO',\n",
    "         'Antigua and Barbuda': 'ATG', 'Argentina': 'ARG',\n",
    "         'Armenia': 'ARM', 'Aruba': 'ABW', 'Australia': 'AUS',\n",
    "         'Austria': 'AUT', 'Azerbaijan': 'AZE', 'The Bahamas': 'BHS',\n",
    "         'Bahrain': 'BHR', 'Bangladesh': 'BGD', 'Barbados': 'BRB',\n",
    "         'Belarus': 'BLR', 'Belgium': 'BEL', 'Belize': 'BLZ',\n",
    "         'Benin': 'BEN', 'Bermuda': 'BMU', 'Bhutan': 'BTN',\n",
    "         'Bolivia': 'BOL', 'Bosnia & Herzegovina': 'BIH',\n",
    "         'Botswana': 'BWA', 'Brazil': 'BRA', 'Brunei Darussalam': 'BRN',\n",
    "         'Bulgaria': 'BGR', 'Burkina Faso': 'BFA', 'Burundi': 'BDI',\n",
    "         'Cambodia': 'KHM', 'Cameroon': 'CMR', 'Canada': 'CAN',\n",
    "         'Cape Verde': 'CPV', 'Central African Rep.': 'CAF', 'Chad': 'TCD',\n",
    "         'Chile': 'CHL', 'China': 'CHN', 'Hong Kong': 'HKG',\n",
    "         'Macao': 'MAC', 'Colombia': 'COL', 'Comoros': 'COM',\n",
    "         'Democratic Republic of Congo': 'ZAR', 'Republic of Congo': 'COG',\n",
    "         'Costa Rica': 'CRI', 'Côte d\\'Ivoire': 'CIV', 'Croatia': 'HRV',\n",
    "         'Cuba': 'CUB', 'Czech Republic': 'CZE', 'Denmark': 'DNK',\n",
    "         'Djibouti': 'DJI', 'Dominica': 'DMA', 'Dominican Republic': 'DOM',\n",
    "         'Ecuador': 'ECU', 'Egypt': 'EGY', 'El Salvador': 'SLV',\n",
    "         'Equatorial Guinea': 'GNQ', 'Eritrea': 'ERI', 'Estonia': 'EST',\n",
    "         'Ethiopia': 'ETH', 'Faeroe Islands': 'FRO', 'Fiji': 'FJI',\n",
    "         'Finland': 'FIN', 'France': 'FRA', 'French Polynesia': 'PYF',\n",
    "         'Gabon': 'GAB', 'The Gambia': 'GMB', 'Georgia': 'GEO',\n",
    "         'Germany': 'DEU', 'Ghana': 'GHA', 'Gibraltar': 'GIB',\n",
    "         'Greece': 'GRC', 'Greenland': 'GRL', 'Grenada': 'GRD',\n",
    "         'Guadeloupe': 'GLP', 'Guam': 'GUM', 'Guatemala': 'GTM',\n",
    "         'French Guiena': 'GUF', 'Guinea': 'GNB', 'Guinea-Bissau': 'GIN',\n",
    "         'Guyana': 'GUY', 'Haiti': 'HTI', 'Honduras': 'HND',\n",
    "         'Hungary': 'HUN', 'Iceland': 'ISL', 'India': 'IND',\n",
    "         'Indonesia': 'IDN', 'Islamic Republic of Iran': 'IRN',\n",
    "         'Iraq': 'IRQ', 'Ireland': 'IRL', 'Israel': 'ISR', 'Italy': 'ITA',\n",
    "         'Jamaica': 'JAM', 'Japan': 'JPN', 'Jordan': 'JOR',\n",
    "         'Kazakhstan': 'KAZ', 'Kenya': 'KEN', 'Kiribati': 'KIR',\n",
    "         'South Korea': 'KOR', 'Kuwait': 'KWT', 'Kyrgyzstan': 'KGZ',\n",
    "         'Lao People\\'s Dem.Rep': 'LAO', 'Latvia': 'LVA', 'Lebanon': 'LBN',\n",
    "         'Lesotho': 'LSO', 'Liberia': 'LBR', 'Libya': 'LBY',\n",
    "         'Lithuania': 'LTU', 'Luxembourg': 'LUX', 'FYR Macedonia': 'MKD',\n",
    "         'Madagascar': 'MDG', 'Malawi': 'MWI', 'Malaysia': 'MYS',\n",
    "         'Maldives': 'MDV', 'Mali': 'MLI', 'Malta': 'MLT',\n",
    "         'Martinique': 'MTQ', 'Mauritania': 'MRT', 'Mauritius': 'MUS',\n",
    "         'Mexico': 'MEX', 'Moldova': 'MDA', 'Mongolia': 'MNG',\n",
    "         'Morocco': 'MAR', 'Mozambique': 'MOZ', 'Myanmar': 'MMR',\n",
    "         'Namibia': 'NAM', 'Nauru': 'NAU', 'Nepal': 'NPL',\n",
    "         'Netherlands': 'NLD', 'Netherlands Antilles': 'ANT',\n",
    "         'New Caledonia': 'NCL', 'New Zealand': 'NZL', 'Nicaragua': 'NIC',\n",
    "         'Niger': 'NER', 'Nigeria': 'NGA', 'Norway': 'NOR', 'Oman': 'OMN',\n",
    "         'Pakistan': 'PAK', 'Palau': 'PLW', 'Panama': 'PAN',\n",
    "         'Papua New Guinea': 'PNG', 'Paraguay': 'PRY', 'Peru': 'PER',\n",
    "         'Philippines': 'PHL', 'Poland': 'POL', 'Portugal': 'PRT',\n",
    "         'Qatar': 'QAT', 'Réunion': 'REU', 'Romania': 'ROM',\n",
    "         'Rwanda': 'RWA', 'Samoa': 'WSM', 'São Tomé & Príncipe': 'STP',\n",
    "         'Saudi Arabia': 'SAU', 'Senegal': 'SEN', 'Serbia': 'SER',\n",
    "         'Seychelles': 'SYC', 'Sierra Leone': 'SLE', 'Singapore': 'SIN',\n",
    "         'Slovenia': 'SVN', 'Solomon Islands': 'SLB', 'Somalia': 'SOM',\n",
    "         'South Africa': 'ZAF', 'Spain': 'ESP', 'Sri Lanka': 'LKA',\n",
    "         'St. Kitts and Nevis': 'KNA', 'St. Lucia': 'LCA',\n",
    "         'St. Vincent & Grens.': 'VCT', 'Sudan': 'SDN', 'Suriname': 'SUR',\n",
    "         'Swaziland': 'SWZ', 'Sweden': 'SWE', 'Switzerland': 'CHE',\n",
    "         'Syrian Arab Republic': 'SYR', 'Tajikistan': 'TJK',\n",
    "         'Tanzania': 'TZA', 'Thailand': 'THA', 'Togo': 'TGO',\n",
    "         'Tonga': 'TON', 'Trinidad & Tobago': 'TTO', 'Tunisia': 'TUN',\n",
    "         'Turkey': 'TUR', 'Turkmenistan': 'TKM', 'Uganda': 'UGA',\n",
    "         'Ukraine': 'UKR', 'United Arab Emirates': 'ARE',\n",
    "         'Great Britain': 'GBR', 'United States': 'USA', 'Uruguay': 'URY',\n",
    "         'Uzbekistan': 'UZB', 'Vanuatu': 'VUT', 'Venezuela': 'VEN',\n",
    "         'Vietnam': 'VNM', 'West Bank/Gaza Strip': 'WBG',\n",
    "         'Republic of Yemen': 'YEM', 'Yugoslavia': 'YUG', 'Zambia': 'ZMB',\n",
    "         'Zimbabwe': 'ZWE'}\n",
    "# Had trouble with the following country codes: 'North Korea':'PRK','Slovakia':'SVK','Cyprus':'CYP',"
   ]
  },
  {
   "cell_type": "code",
   "execution_count": 117,
   "metadata": {
    "collapsed": true,
    "nbpresent": {
     "id": "e67d5df2-92b7-475a-85ae-0b2c7c46c694"
    }
   },
   "outputs": [],
   "source": [
    "# Load data from saved file and merge list to Pandas DataFrame\n",
    "fname = 'data.pkl'\n",
    "if os.path.isfile(fname):\n",
    "    pkl_file = open(fname, 'rb')\n",
    "    medalsDF = pickle.load(pkl_file)\n",
    "    pkl_file.close()\n",
    "\n",
    "col = np.empty(len(medalsDF['country_name']),); col[:] = np.nan\n",
    "medalsDF.loc[:, 'code'] = pd.Series(col, index=medalsDF.index)\n",
    "for name in medalsDF['country_name']:\n",
    "    if name in codes:\n",
    "        medalsDF.loc[(medalsDF.country_name == name),'code'] = codes[name]\n",
    "\n",
    "# Manual data entry from Google (Sources include: World Bank)\n",
    "medalsDF.loc[(medalsDF.country_name == 'Russia'),'code']= 'RUS'\n",
    "medalsDF.loc[(medalsDF.country_name == 'Russia'),'GDP'] = 2.1\n",
    "medalsDF.loc[(medalsDF.country_name == 'Russia'),'Population'] = 1.435e8\n",
    "medalsDF.loc[(medalsDF.country_name == 'Singapore'),'GDP'] = 0.26\n",
    "medalsDF.loc[(medalsDF.country_name == 'Singapore'),'Population'] = 5.4e6"
   ]
  },
  {
   "cell_type": "markdown",
   "metadata": {},
   "source": [
    "# Find total medal count (who won the most medals?)\n"
   ]
  },
  {
   "cell_type": "code",
   "execution_count": 114,
   "metadata": {
    "collapsed": false,
    "nbpresent": {
     "id": "ddf92a3a-7ee5-4258-8578-327b98373822"
    }
   },
   "outputs": [
    {
     "data": {
      "text/html": [
       "<div>\n",
       "<table border=\"1\" class=\"dataframe\">\n",
       "  <thead>\n",
       "    <tr style=\"text-align: right;\">\n",
       "      <th></th>\n",
       "      <th>bronze_count</th>\n",
       "      <th>country_name</th>\n",
       "      <th>gold_count</th>\n",
       "      <th>id</th>\n",
       "      <th>place</th>\n",
       "      <th>silver_count</th>\n",
       "      <th>total_count</th>\n",
       "      <th>GDP</th>\n",
       "      <th>Population</th>\n",
       "      <th>code</th>\n",
       "      <th>medalspergdp</th>\n",
       "      <th>medalsperpop</th>\n",
       "    </tr>\n",
       "  </thead>\n",
       "  <tbody>\n",
       "    <tr>\n",
       "      <th>0</th>\n",
       "      <td>38</td>\n",
       "      <td>United States</td>\n",
       "      <td>46</td>\n",
       "      <td>united-states</td>\n",
       "      <td>1</td>\n",
       "      <td>37</td>\n",
       "      <td>121</td>\n",
       "      <td>15.705</td>\n",
       "      <td>3.188571e+08</td>\n",
       "      <td>USA</td>\n",
       "      <td>121.000000</td>\n",
       "      <td>121.000000</td>\n",
       "    </tr>\n",
       "    <tr>\n",
       "      <th>1</th>\n",
       "      <td>17</td>\n",
       "      <td>Great Britain</td>\n",
       "      <td>27</td>\n",
       "      <td>great-britain</td>\n",
       "      <td>2</td>\n",
       "      <td>23</td>\n",
       "      <td>67</td>\n",
       "      <td>2.333</td>\n",
       "      <td>6.451038e+07</td>\n",
       "      <td>GBR</td>\n",
       "      <td>451.022289</td>\n",
       "      <td>331.162583</td>\n",
       "    </tr>\n",
       "    <tr>\n",
       "      <th>2</th>\n",
       "      <td>26</td>\n",
       "      <td>China</td>\n",
       "      <td>26</td>\n",
       "      <td>china</td>\n",
       "      <td>3</td>\n",
       "      <td>18</td>\n",
       "      <td>70</td>\n",
       "      <td>17.647</td>\n",
       "      <td>1.357380e+09</td>\n",
       "      <td>CHN</td>\n",
       "      <td>62.296708</td>\n",
       "      <td>16.443438</td>\n",
       "    </tr>\n",
       "    <tr>\n",
       "      <th>3</th>\n",
       "      <td>19</td>\n",
       "      <td>Russia</td>\n",
       "      <td>19</td>\n",
       "      <td>russia</td>\n",
       "      <td>4</td>\n",
       "      <td>18</td>\n",
       "      <td>56</td>\n",
       "      <td>2.100</td>\n",
       "      <td>1.435000e+08</td>\n",
       "      <td>RUS</td>\n",
       "      <td>418.800000</td>\n",
       "      <td>124.432022</td>\n",
       "    </tr>\n",
       "    <tr>\n",
       "      <th>4</th>\n",
       "      <td>15</td>\n",
       "      <td>Germany</td>\n",
       "      <td>17</td>\n",
       "      <td>germany</td>\n",
       "      <td>5</td>\n",
       "      <td>10</td>\n",
       "      <td>42</td>\n",
       "      <td>3.330</td>\n",
       "      <td>8.088950e+07</td>\n",
       "      <td>DEU</td>\n",
       "      <td>198.081081</td>\n",
       "      <td>165.559133</td>\n",
       "    </tr>\n",
       "  </tbody>\n",
       "</table>\n",
       "</div>"
      ],
      "text/plain": [
       "   bronze_count   country_name  gold_count             id  place  \\\n",
       "0            38  United States          46  united-states      1   \n",
       "1            17  Great Britain          27  great-britain      2   \n",
       "2            26          China          26          china      3   \n",
       "3            19         Russia          19         russia      4   \n",
       "4            15        Germany          17        germany      5   \n",
       "\n",
       "   silver_count  total_count     GDP    Population code  medalspergdp  \\\n",
       "0            37          121  15.705  3.188571e+08  USA    121.000000   \n",
       "1            23           67   2.333  6.451038e+07  GBR    451.022289   \n",
       "2            18           70  17.647  1.357380e+09  CHN     62.296708   \n",
       "3            18           56   2.100  1.435000e+08  RUS    418.800000   \n",
       "4            10           42   3.330  8.088950e+07  DEU    198.081081   \n",
       "\n",
       "   medalsperpop  \n",
       "0    121.000000  \n",
       "1    331.162583  \n",
       "2     16.443438  \n",
       "3    124.432022  \n",
       "4    165.559133  "
      ]
     },
     "execution_count": 114,
     "metadata": {},
     "output_type": "execute_result"
    }
   ],
   "source": [
    "medalsDF.head()"
   ]
  },
  {
   "cell_type": "markdown",
   "metadata": {
    "nbpresent": {
     "id": "4c77b6f0-1aa5-4b5b-af51-d7f396e20d95"
    }
   },
   "source": [
    "# Map total of medal-winning countries in orange to black"
   ]
  },
  {
   "cell_type": "code",
   "execution_count": 111,
   "metadata": {
    "collapsed": false,
    "nbpresent": {
     "id": "f0899016-e2e1-4030-a0ef-7d0353e598eb"
    }
   },
   "outputs": [
    {
     "data": {
      "text/html": [
       "<meta name=\"viewport\" content=\"width=device-width, initial-scale=1, maximum-scale=1\"/><meta http-equiv=\"X-UA-Compatible\" content=\"IE=10; IE=9; IE=8; IE=7; IE=EDGE\"/><meta charset=\"UTF-8\"/><link href=\"//fonts.googleapis.com/css?family=Open+Sans:400,700\" rel=\"stylesheet\" type=\"text/css\"/><link rel=\"stylesheet\" href=\"http://public.lightning-viz.org/css/app.css\"/><div id=\"lightning-body\" class=\"container content wrap push\"><div class=\"feed-container\"><div data-model=\"visualization\" data-model-id=\"47034399-17d6-48cc-bc5a-b46e1453c270\" class=\"feed-item-container\"><div data-type=\"lightning-map\" data-data=\"{&quot;colormap&quot;:&quot;Oranges&quot;,&quot;regions&quot;:[&quot;USA&quot;,&quot;GBR&quot;,&quot;CHN&quot;,&quot;RUS&quot;,&quot;DEU&quot;,&quot;JPN&quot;,&quot;FRA&quot;,&quot;KOR&quot;,&quot;ITA&quot;,&quot;AUS&quot;,&quot;NLD&quot;,&quot;HUN&quot;,&quot;BRA&quot;,&quot;ESP&quot;,&quot;KEN&quot;,&quot;JAM&quot;,&quot;HRV&quot;,&quot;CUB&quot;,&quot;NZL&quot;,&quot;CAN&quot;,&quot;UZB&quot;,&quot;KAZ&quot;,&quot;COL&quot;,&quot;CHE&quot;,&quot;GRC&quot;,&quot;ARG&quot;,&quot;DNK&quot;,&quot;SWE&quot;,&quot;ZAF&quot;,&quot;UKR&quot;,&quot;SER&quot;,&quot;POL&quot;,&quot;BEL&quot;,&quot;THA&quot;,&quot;GEO&quot;,&quot;AZE&quot;,&quot;BLR&quot;,&quot;TUR&quot;,&quot;ARM&quot;,&quot;CZE&quot;,&quot;ETH&quot;,&quot;SVN&quot;,&quot;IDN&quot;,&quot;ROM&quot;,&quot;BHR&quot;,&quot;VNM&quot;,&quot;CIV&quot;,&quot;FJI&quot;,&quot;JOR&quot;,&quot;SIN&quot;,&quot;TJK&quot;,&quot;MYS&quot;,&quot;MEX&quot;,&quot;DZA&quot;,&quot;IRL&quot;,&quot;LTU&quot;,&quot;BGR&quot;,&quot;VEN&quot;,&quot;IND&quot;,&quot;MNG&quot;,&quot;BDI&quot;,&quot;GRD&quot;,&quot;NER&quot;,&quot;PHL&quot;,&quot;QAT&quot;,&quot;NOR&quot;,&quot;EGY&quot;,&quot;TUN&quot;,&quot;ISR&quot;,&quot;AUT&quot;,&quot;DOM&quot;,&quot;EST&quot;,&quot;FIN&quot;,&quot;MAR&quot;,&quot;MDA&quot;,&quot;NGA&quot;,&quot;PRT&quot;,&quot;TTO&quot;,&quot;ARE&quot;],&quot;values&quot;:[121,67,70,56,42,41,42,21,28,29,19,15,19,17,13,11,10,11,18,22,13,17,8,7,6,4,15,11,10,11,8,11,6,6,7,18,9,8,4,10,8,4,3,5,2,2,2,1,1,1,1,5,5,2,2,4,3,3,2,2,1,1,1,1,1,4,3,3,2,1,1,1,1,1,1,1,1,1,1]}\" data-images=\"null\" data-options=\"{&quot;width&quot;:600,&quot;height&quot;:300,&quot;description&quot;:null}\" id=\"viz-47034399-17d6-48cc-bc5a-b46e1453c270\" data-initialized=\"false\" class=\"feed-item\"></div></div></div></div><script>window.lightning = window.lightning || {};\n",
       "window.lightning.host = \"http://public.lightning-viz.org/\" || 'http://127.0.0.1:3000/';\n",
       "window.lightning.vizCount = (window.lightning.vizCount + 1) || 1;\n",
       "window.lightning.requiredVizTypes = window.lightning.requiredVizTypes || [];\n",
       "if(window.lightning.requiredVizTypes.indexOf(\"map\") === -1) {\n",
       "    window.lightning.requiredVizTypes.push(\"map\");\n",
       "}\n",
       "window._require = window.require;\n",
       "window.require = undefined;\n",
       "window._define = window.define;\n",
       "window.define = undefined;</script><script src=\"http://public.lightning-viz.org/js/embed.js\"></script>"
      ],
      "text/plain": [
       "<lightning.types.plots.Map at 0x27a2505d5c0>"
      ]
     },
     "execution_count": 111,
     "metadata": {},
     "output_type": "execute_result"
    }
   ],
   "source": [
    "# Countries that exist in our medal-winners dataset\n",
    "mycountries = list(medalsDF.loc[medalsDF.loc[:, 'code'].notnull(), 'code'])\n",
    "\n",
    "values = medalsDF.loc[medalsDF.loc[:, 'code'].notnull(), 'total_count']\n",
    "values = list(values.fillna(0))\n",
    "lgn.map(mycountries, values, colormap='Oranges',width=600, height=300)"
   ]
  },
  {
   "cell_type": "markdown",
   "metadata": {
    "nbpresent": {
     "id": "e54d6afc-7a75-4024-9b16-44733b64a3b9"
    }
   },
   "source": [
    "# Map GDP of medal-winning countries in purple"
   ]
  },
  {
   "cell_type": "code",
   "execution_count": 118,
   "metadata": {
    "collapsed": false,
    "nbpresent": {
     "id": "03969411-7dc3-4c49-a7e6-dfceb2962226"
    }
   },
   "outputs": [
    {
     "data": {
      "text/html": [
       "<meta name=\"viewport\" content=\"width=device-width, initial-scale=1, maximum-scale=1\"/><meta http-equiv=\"X-UA-Compatible\" content=\"IE=10; IE=9; IE=8; IE=7; IE=EDGE\"/><meta charset=\"UTF-8\"/><link href=\"//fonts.googleapis.com/css?family=Open+Sans:400,700\" rel=\"stylesheet\" type=\"text/css\"/><link rel=\"stylesheet\" href=\"http://public.lightning-viz.org/css/app.css\"/><div id=\"lightning-body\" class=\"container content wrap push\"><div class=\"feed-container\"><div data-model=\"visualization\" data-model-id=\"79451de5-7635-41a9-899f-f328b44e954e\" class=\"feed-item-container\"><div data-type=\"lightning-map\" data-data=\"{&quot;colormap&quot;:&quot;Purples&quot;,&quot;regions&quot;:[&quot;USA&quot;,&quot;GBR&quot;,&quot;CHN&quot;,&quot;RUS&quot;,&quot;DEU&quot;,&quot;JPN&quot;,&quot;FRA&quot;,&quot;KOR&quot;,&quot;ITA&quot;,&quot;AUS&quot;,&quot;NLD&quot;,&quot;HUN&quot;,&quot;BRA&quot;,&quot;ESP&quot;,&quot;KEN&quot;,&quot;JAM&quot;,&quot;HRV&quot;,&quot;CUB&quot;,&quot;NZL&quot;,&quot;CAN&quot;,&quot;UZB&quot;,&quot;KAZ&quot;,&quot;COL&quot;,&quot;CHE&quot;,&quot;GRC&quot;,&quot;ARG&quot;,&quot;DNK&quot;,&quot;SWE&quot;,&quot;ZAF&quot;,&quot;UKR&quot;,&quot;SER&quot;,&quot;POL&quot;,&quot;BEL&quot;,&quot;THA&quot;,&quot;GEO&quot;,&quot;AZE&quot;,&quot;BLR&quot;,&quot;TUR&quot;,&quot;ARM&quot;,&quot;CZE&quot;,&quot;ETH&quot;,&quot;SVN&quot;,&quot;IDN&quot;,&quot;ROM&quot;,&quot;BHR&quot;,&quot;VNM&quot;,&quot;CIV&quot;,&quot;FJI&quot;,&quot;JOR&quot;,&quot;SIN&quot;,&quot;TJK&quot;,&quot;MYS&quot;,&quot;MEX&quot;,&quot;DZA&quot;,&quot;IRL&quot;,&quot;LTU&quot;,&quot;BGR&quot;,&quot;VEN&quot;,&quot;IND&quot;,&quot;MNG&quot;,&quot;BDI&quot;,&quot;GRD&quot;,&quot;NER&quot;,&quot;PHL&quot;,&quot;QAT&quot;,&quot;NOR&quot;,&quot;EGY&quot;,&quot;TUN&quot;,&quot;ISR&quot;,&quot;AUT&quot;,&quot;DOM&quot;,&quot;EST&quot;,&quot;FIN&quot;,&quot;MAR&quot;,&quot;MDA&quot;,&quot;NGA&quot;,&quot;PRT&quot;,&quot;TTO&quot;,&quot;ARE&quot;],&quot;values&quot;:[15.705,2.333,17.647,3.33,4.148,2.288,1.622,1.873,0.997,0.725,0.226,2.624,1.417,0.128,0.022,0.079,0,0.147,1.415,0.169,0.367,0.585,0.417,0.243,0.822,0.225,0.419,0.622,0.294,0,0.89,0.427,0.975,0.031,0.14,0.139,1.409,0.022,0.291,0.144,0.056,2.548,0,0.057,0.502,0.073,0.007,0.073,0,0.021,0.728,1.949,0.511,0.231,0.072,0.12,0.405,7.314,0.031,0.007,0.001,0.017,0.671,0.283,0.307,0.925,0.111,0.248,0.35,0.135,0.033,0.194,0.239,0.015,0.955,0.251,0.037,0.567]}\" data-images=\"null\" data-options=\"{&quot;width&quot;:600,&quot;height&quot;:300,&quot;description&quot;:null}\" id=\"viz-79451de5-7635-41a9-899f-f328b44e954e\" data-initialized=\"false\" class=\"feed-item\"></div></div></div></div><script>window.lightning = window.lightning || {};\n",
       "window.lightning.host = \"http://public.lightning-viz.org/\" || 'http://127.0.0.1:3000/';\n",
       "window.lightning.vizCount = (window.lightning.vizCount + 1) || 1;\n",
       "window.lightning.requiredVizTypes = window.lightning.requiredVizTypes || [];\n",
       "if(window.lightning.requiredVizTypes.indexOf(\"map\") === -1) {\n",
       "    window.lightning.requiredVizTypes.push(\"map\");\n",
       "}\n",
       "window._require = window.require;\n",
       "window.require = undefined;\n",
       "window._define = window.define;\n",
       "window.define = undefined;</script><script src=\"http://public.lightning-viz.org/js/embed.js\"></script>"
      ],
      "text/plain": [
       "<lightning.types.plots.Map at 0x27a2504c6a0>"
      ]
     },
     "execution_count": 118,
     "metadata": {},
     "output_type": "execute_result"
    }
   ],
   "source": [
    "values = medalsDF.loc[medalsDF.loc[:, 'code'].notnull(), 'GDP']\n",
    "values = list(values.fillna(0))\n",
    "lgn.map(mycountries, values, colormap='Purples', width=600, height=300)"
   ]
  },
  {
   "cell_type": "markdown",
   "metadata": {
    "nbpresent": {
     "id": "f0da5ae8-7a99-49d4-92d9-912f484365e3"
    }
   },
   "source": [
    "# Map populations of medal-winning countries in green"
   ]
  },
  {
   "cell_type": "code",
   "execution_count": 79,
   "metadata": {
    "collapsed": false,
    "nbpresent": {
     "id": "7df1f92e-ab2a-4ecc-95a1-6bd78aa24911"
    }
   },
   "outputs": [
    {
     "data": {
      "text/html": [
       "<meta name=\"viewport\" content=\"width=device-width, initial-scale=1, maximum-scale=1\"/><meta http-equiv=\"X-UA-Compatible\" content=\"IE=10; IE=9; IE=8; IE=7; IE=EDGE\"/><meta charset=\"UTF-8\"/><link href=\"//fonts.googleapis.com/css?family=Open+Sans:400,700\" rel=\"stylesheet\" type=\"text/css\"/><link rel=\"stylesheet\" href=\"http://public.lightning-viz.org/css/app.css\"/><div id=\"lightning-body\" class=\"container content wrap push\"><div class=\"feed-container\"><div data-model=\"visualization\" data-model-id=\"9ade35e9-1f01-4f0e-a93f-8f772e34cb66\" class=\"feed-item-container\"><div data-type=\"lightning-map\" data-data=\"{&quot;colormap&quot;:&quot;Greens&quot;,&quot;regions&quot;:[&quot;USA&quot;,&quot;GBR&quot;,&quot;CHN&quot;,&quot;RUS&quot;,&quot;DEU&quot;,&quot;JPN&quot;,&quot;FRA&quot;,&quot;KOR&quot;,&quot;ITA&quot;,&quot;AUS&quot;,&quot;NLD&quot;,&quot;HUN&quot;,&quot;BRA&quot;,&quot;ESP&quot;,&quot;KEN&quot;,&quot;JAM&quot;,&quot;HRV&quot;,&quot;CUB&quot;,&quot;NZL&quot;,&quot;CAN&quot;,&quot;UZB&quot;,&quot;KAZ&quot;,&quot;COL&quot;,&quot;CHE&quot;,&quot;GRC&quot;,&quot;ARG&quot;,&quot;DNK&quot;,&quot;SWE&quot;,&quot;ZAF&quot;,&quot;UKR&quot;,&quot;SER&quot;,&quot;POL&quot;,&quot;BEL&quot;,&quot;THA&quot;,&quot;GEO&quot;,&quot;AZE&quot;,&quot;BLR&quot;,&quot;TUR&quot;,&quot;ARM&quot;,&quot;CZE&quot;,&quot;ETH&quot;,&quot;SVN&quot;,&quot;IDN&quot;,&quot;ROM&quot;,&quot;BHR&quot;,&quot;VNM&quot;,&quot;CIV&quot;,&quot;FJI&quot;,&quot;JOR&quot;,&quot;SIN&quot;,&quot;TJK&quot;,&quot;MYS&quot;,&quot;MEX&quot;,&quot;DZA&quot;,&quot;IRL&quot;,&quot;LTU&quot;,&quot;BGR&quot;,&quot;VEN&quot;,&quot;IND&quot;,&quot;MNG&quot;,&quot;BDI&quot;,&quot;GRD&quot;,&quot;NER&quot;,&quot;PHL&quot;,&quot;QAT&quot;,&quot;NOR&quot;,&quot;EGY&quot;,&quot;TUN&quot;,&quot;ISR&quot;,&quot;AUT&quot;,&quot;DOM&quot;,&quot;EST&quot;,&quot;FIN&quot;,&quot;MAR&quot;,&quot;MDA&quot;,&quot;NGA&quot;,&quot;PRT&quot;,&quot;TTO&quot;,&quot;ARE&quot;],&quot;values&quot;:[318857056,64510376,1357380000,143500000,80889505,127131800,66201365,50423955,61336387,23490736,16854183,9861673,202033670,46404602,45545980,2721252,4236400,11258597,4509700,35540419,30742500,17289111,48929706,8190229,10957740,41803125,5639565,9689555,54001953,45489600,0,37995529,11225207,67222972,4504100,9537823,9470000,75837020,2983990,10510566,96506031,2062218,252812245,0,1344111,90730000,20804774,887027,6607000,5400000,8408947,30187896,123799215,39928947,4612719,2929323,7226291,30851343,1267401849,2881415,10482752,106303,18534802,100096496,2267916,5136475,83386739,10996600,8215300,8534492,10528954,1313645,5463596,33492909,3556400,178516904,10397393,1344235,9445624]}\" data-images=\"null\" data-options=\"{&quot;width&quot;:600,&quot;height&quot;:300,&quot;description&quot;:null}\" id=\"viz-9ade35e9-1f01-4f0e-a93f-8f772e34cb66\" data-initialized=\"false\" class=\"feed-item\"></div></div></div></div><script>window.lightning = window.lightning || {};\n",
       "window.lightning.host = \"http://public.lightning-viz.org/\" || 'http://127.0.0.1:3000/';\n",
       "window.lightning.vizCount = (window.lightning.vizCount + 1) || 1;\n",
       "window.lightning.requiredVizTypes = window.lightning.requiredVizTypes || [];\n",
       "if(window.lightning.requiredVizTypes.indexOf(\"map\") === -1) {\n",
       "    window.lightning.requiredVizTypes.push(\"map\");\n",
       "}\n",
       "window._require = window.require;\n",
       "window.require = undefined;\n",
       "window._define = window.define;\n",
       "window.define = undefined;</script><script src=\"http://public.lightning-viz.org/js/embed.js\"></script>"
      ],
      "text/plain": [
       "<lightning.types.plots.Map at 0x27a2504cc18>"
      ]
     },
     "execution_count": 79,
     "metadata": {},
     "output_type": "execute_result"
    }
   ],
   "source": [
    "values = medalsDF.loc[medalsDF.loc[:, 'code'].notnull(), 'Population']\n",
    "values = list(values.fillna(0))\n",
    "lgn.map(mycountries, values, colormap='Greens', width=600, height=300)"
   ]
  },
  {
   "cell_type": "markdown",
   "metadata": {
    "nbpresent": {
     "id": "0b6ee8d0-0855-43c3-bcc9-dd9fae29f841"
    }
   },
   "source": [
    "# Find medal count divided by GDP (who does more with less money?)"
   ]
  },
  {
   "cell_type": "code",
   "execution_count": 104,
   "metadata": {
    "collapsed": false,
    "nbpresent": {
     "id": "f864e5ad-389f-4cf0-9a0f-b67cdc8c9a47"
    }
   },
   "outputs": [
    {
     "data": {
      "text/html": [
       "<div>\n",
       "<table border=\"1\" class=\"dataframe\">\n",
       "  <thead>\n",
       "    <tr style=\"text-align: right;\">\n",
       "      <th></th>\n",
       "      <th>bronze_count</th>\n",
       "      <th>country_name</th>\n",
       "      <th>gold_count</th>\n",
       "      <th>id</th>\n",
       "      <th>place</th>\n",
       "      <th>silver_count</th>\n",
       "      <th>total_count</th>\n",
       "      <th>GDP</th>\n",
       "      <th>Population</th>\n",
       "      <th>code</th>\n",
       "      <th>medalspergdp</th>\n",
       "      <th>medalsperpop</th>\n",
       "    </tr>\n",
       "  </thead>\n",
       "  <tbody>\n",
       "    <tr>\n",
       "      <th>69</th>\n",
       "      <td>0</td>\n",
       "      <td>Grenada</td>\n",
       "      <td>0</td>\n",
       "      <td>grenada</td>\n",
       "      <td>69</td>\n",
       "      <td>1</td>\n",
       "      <td>1</td>\n",
       "      <td>0.001</td>\n",
       "      <td>106303.0</td>\n",
       "      <td>GRD</td>\n",
       "      <td>15705.000000</td>\n",
       "      <td>2999.511359</td>\n",
       "    </tr>\n",
       "    <tr>\n",
       "      <th>15</th>\n",
       "      <td>2</td>\n",
       "      <td>Jamaica</td>\n",
       "      <td>6</td>\n",
       "      <td>jamaica</td>\n",
       "      <td>16</td>\n",
       "      <td>3</td>\n",
       "      <td>11</td>\n",
       "      <td>0.022</td>\n",
       "      <td>2721252.0</td>\n",
       "      <td>JAM</td>\n",
       "      <td>7852.500000</td>\n",
       "      <td>1288.902173</td>\n",
       "    </tr>\n",
       "    <tr>\n",
       "      <th>37</th>\n",
       "      <td>4</td>\n",
       "      <td>Georgia</td>\n",
       "      <td>2</td>\n",
       "      <td>georgia</td>\n",
       "      <td>38</td>\n",
       "      <td>1</td>\n",
       "      <td>7</td>\n",
       "      <td>0.031</td>\n",
       "      <td>4504100.0</td>\n",
       "      <td>GEO</td>\n",
       "      <td>3546.290323</td>\n",
       "      <td>495.548365</td>\n",
       "    </tr>\n",
       "    <tr>\n",
       "      <th>41</th>\n",
       "      <td>0</td>\n",
       "      <td>Armenia</td>\n",
       "      <td>1</td>\n",
       "      <td>armenia</td>\n",
       "      <td>42</td>\n",
       "      <td>3</td>\n",
       "      <td>4</td>\n",
       "      <td>0.022</td>\n",
       "      <td>2983990.0</td>\n",
       "      <td>ARM</td>\n",
       "      <td>2855.454545</td>\n",
       "      <td>427.423759</td>\n",
       "    </tr>\n",
       "    <tr>\n",
       "      <th>68</th>\n",
       "      <td>0</td>\n",
       "      <td>Burundi</td>\n",
       "      <td>0</td>\n",
       "      <td>burundi</td>\n",
       "      <td>69</td>\n",
       "      <td>1</td>\n",
       "      <td>1</td>\n",
       "      <td>0.007</td>\n",
       "      <td>10482752.0</td>\n",
       "      <td>BDI</td>\n",
       "      <td>2243.571429</td>\n",
       "      <td>30.417304</td>\n",
       "    </tr>\n",
       "  </tbody>\n",
       "</table>\n",
       "</div>"
      ],
      "text/plain": [
       "    bronze_count country_name  gold_count       id  place  silver_count  \\\n",
       "69             0      Grenada           0  grenada     69             1   \n",
       "15             2      Jamaica           6  jamaica     16             3   \n",
       "37             4      Georgia           2  georgia     38             1   \n",
       "41             0      Armenia           1  armenia     42             3   \n",
       "68             0      Burundi           0  burundi     69             1   \n",
       "\n",
       "    total_count    GDP  Population code  medalspergdp  medalsperpop  \n",
       "69            1  0.001    106303.0  GRD  15705.000000   2999.511359  \n",
       "15           11  0.022   2721252.0  JAM   7852.500000   1288.902173  \n",
       "37            7  0.031   4504100.0  GEO   3546.290323    495.548365  \n",
       "41            4  0.022   2983990.0  ARM   2855.454545    427.423759  \n",
       "68            1  0.007  10482752.0  BDI   2243.571429     30.417304  "
      ]
     },
     "execution_count": 104,
     "metadata": {},
     "output_type": "execute_result"
    }
   ],
   "source": [
    "medalsDF.loc[:, 'medalspergdp'] = pd.Series(col, index=medalsDF.index)\n",
    "medalsDF.loc[:, 'medalspergdp'] = medalsDF.loc[:, 'total_count'] \\\n",
    "                                  / medalsDF.loc[:, 'GDP'] \\\n",
    "                                  * medalsDF.loc[(medalsDF.country_name == 'United States'),'GDP'].values\n",
    "medalsDF.sort_values(by='medalspergdp', ascending=False).head()"
   ]
  },
  {
   "cell_type": "markdown",
   "metadata": {
    "nbpresent": {
     "id": "2e7165f9-fa62-4426-adba-aff39fcf739e"
    }
   },
   "source": [
    "# Map GDP-weighted Total Medal Count in Blue"
   ]
  },
  {
   "cell_type": "code",
   "execution_count": 91,
   "metadata": {
    "collapsed": false,
    "nbpresent": {
     "id": "751942d1-992a-491e-bd38-f0b15a49566d"
    }
   },
   "outputs": [
    {
     "data": {
      "text/html": [
       "<meta name=\"viewport\" content=\"width=device-width, initial-scale=1, maximum-scale=1\"/><meta http-equiv=\"X-UA-Compatible\" content=\"IE=10; IE=9; IE=8; IE=7; IE=EDGE\"/><meta charset=\"UTF-8\"/><link href=\"//fonts.googleapis.com/css?family=Open+Sans:400,700\" rel=\"stylesheet\" type=\"text/css\"/><link rel=\"stylesheet\" href=\"http://public.lightning-viz.org/css/app.css\"/><div id=\"lightning-body\" class=\"container content wrap push\"><div class=\"feed-container\"><div data-model=\"visualization\" data-model-id=\"f37c0cba-d2da-448c-97c8-dbc9d9ba3944\" class=\"feed-item-container\"><div data-type=\"lightning-map\" data-data=\"{&quot;colormap&quot;:&quot;Blues&quot;,&quot;regions&quot;:[&quot;USA&quot;,&quot;GBR&quot;,&quot;CHN&quot;,&quot;RUS&quot;,&quot;DEU&quot;,&quot;JPN&quot;,&quot;FRA&quot;,&quot;KOR&quot;,&quot;ITA&quot;,&quot;AUS&quot;,&quot;NLD&quot;,&quot;HUN&quot;,&quot;BRA&quot;,&quot;ESP&quot;,&quot;KEN&quot;,&quot;JAM&quot;,&quot;HRV&quot;,&quot;CUB&quot;,&quot;NZL&quot;,&quot;CAN&quot;,&quot;UZB&quot;,&quot;KAZ&quot;,&quot;COL&quot;,&quot;CHE&quot;,&quot;GRC&quot;,&quot;ARG&quot;,&quot;DNK&quot;,&quot;SWE&quot;,&quot;ZAF&quot;,&quot;UKR&quot;,&quot;SER&quot;,&quot;POL&quot;,&quot;BEL&quot;,&quot;THA&quot;,&quot;GEO&quot;,&quot;AZE&quot;,&quot;BLR&quot;,&quot;TUR&quot;,&quot;ARM&quot;,&quot;CZE&quot;,&quot;ETH&quot;,&quot;SVN&quot;,&quot;IDN&quot;,&quot;ROM&quot;,&quot;BHR&quot;,&quot;VNM&quot;,&quot;CIV&quot;,&quot;FJI&quot;,&quot;JOR&quot;,&quot;SIN&quot;,&quot;TJK&quot;,&quot;MYS&quot;,&quot;MEX&quot;,&quot;DZA&quot;,&quot;IRL&quot;,&quot;LTU&quot;,&quot;BGR&quot;,&quot;VEN&quot;,&quot;IND&quot;,&quot;MNG&quot;,&quot;BDI&quot;,&quot;GRD&quot;,&quot;NER&quot;,&quot;PHL&quot;,&quot;QAT&quot;,&quot;NOR&quot;,&quot;EGY&quot;,&quot;TUN&quot;,&quot;ISR&quot;,&quot;AUT&quot;,&quot;DOM&quot;,&quot;EST&quot;,&quot;FIN&quot;,&quot;MAR&quot;,&quot;MDA&quot;,&quot;NGA&quot;,&quot;PRT&quot;,&quot;TTO&quot;,&quot;ARE&quot;],&quot;values&quot;:[121,451.022288898414,62.29670765569219,418.79999999999995,198.08108108108107,155.23264223722276,288.2910839160839,203.3323057953144,234.77843032568074,456.81544633901706,411.5793103448276,1042.367256637168,113.71760670731706,188.41566690190544,1595.0390625,7852.500000000001,1987.9746835443036,0,1923.0612244897961,244.1766784452297,1208.076923076923,727.4795640326976,214.7692307692308,263.6330935251799,387.77777777777777,76.42335766423358,1047,412.3031026252984,252.491961414791,587.6020408163266,0,194.1067415730337,220.6791569086651,96.64615384615385,3546.2903225806454,2019.2142857142856,1016.8705035971221,89.16962384669978,2855.454545454546,539.6907216494845,872.5,1121.7857142857142,18.490973312401884,0,551.0526315789473,62.56972111553785,430.2739726027398,2243.5714285714284,215.1369863013699,60.403846153846146,747.8571428571428,107.86401098901099,40.28989225243714,61.467710371819955,135.97402597402598,872.5,392.625,116.33333333333331,4.294503691550451,1013.2258064516129,2243.5714285714284,15705,923.8235294117646,23.405365126676603,55.49469964664311,204.62540716612378,50.935135135135134,424.4594594594595,126.65322580645162,44.871428571428574,116.33333333333331,475.9090909090909,80.95360824742268,65.7112970711297,1047,16.445026178010473,62.56972111553785,424.4594594594595,27.6984126984127]}\" data-images=\"null\" data-options=\"{&quot;width&quot;:600,&quot;height&quot;:300,&quot;description&quot;:null}\" id=\"viz-f37c0cba-d2da-448c-97c8-dbc9d9ba3944\" data-initialized=\"false\" class=\"feed-item\"></div></div></div></div><script>window.lightning = window.lightning || {};\n",
       "window.lightning.host = \"http://public.lightning-viz.org/\" || 'http://127.0.0.1:3000/';\n",
       "window.lightning.vizCount = (window.lightning.vizCount + 1) || 1;\n",
       "window.lightning.requiredVizTypes = window.lightning.requiredVizTypes || [];\n",
       "if(window.lightning.requiredVizTypes.indexOf(\"map\") === -1) {\n",
       "    window.lightning.requiredVizTypes.push(\"map\");\n",
       "}\n",
       "window._require = window.require;\n",
       "window.require = undefined;\n",
       "window._define = window.define;\n",
       "window.define = undefined;</script><script src=\"http://public.lightning-viz.org/js/embed.js\"></script>"
      ],
      "text/plain": [
       "<lightning.types.plots.Map at 0x27a25058390>"
      ]
     },
     "execution_count": 91,
     "metadata": {},
     "output_type": "execute_result"
    }
   ],
   "source": [
    "values = medalsDF.loc[medalsDF.loc[:, 'code'].notnull(), 'medalspergdp']\n",
    "values = list(values.fillna(0))\n",
    "lgn.map(mycountries, values, colormap='Blues', width=600, height=300)"
   ]
  },
  {
   "cell_type": "markdown",
   "metadata": {
    "nbpresent": {
     "id": "8f722e75-e78f-43dd-953f-26506f74dc3e"
    }
   },
   "source": [
    "# Find medal count divided by population (who does more with fewer people?)"
   ]
  },
  {
   "cell_type": "code",
   "execution_count": 103,
   "metadata": {
    "collapsed": false,
    "nbpresent": {
     "id": "0850bf43-fae4-4bcb-937f-ae0818c4dad4"
    }
   },
   "outputs": [
    {
     "data": {
      "text/html": [
       "<div>\n",
       "<table border=\"1\" class=\"dataframe\">\n",
       "  <thead>\n",
       "    <tr style=\"text-align: right;\">\n",
       "      <th></th>\n",
       "      <th>bronze_count</th>\n",
       "      <th>country_name</th>\n",
       "      <th>gold_count</th>\n",
       "      <th>id</th>\n",
       "      <th>place</th>\n",
       "      <th>silver_count</th>\n",
       "      <th>total_count</th>\n",
       "      <th>GDP</th>\n",
       "      <th>Population</th>\n",
       "      <th>code</th>\n",
       "      <th>medalspergdp</th>\n",
       "      <th>medalsperpop</th>\n",
       "    </tr>\n",
       "  </thead>\n",
       "  <tbody>\n",
       "    <tr>\n",
       "      <th>69</th>\n",
       "      <td>0</td>\n",
       "      <td>Grenada</td>\n",
       "      <td>0</td>\n",
       "      <td>grenada</td>\n",
       "      <td>69</td>\n",
       "      <td>1</td>\n",
       "      <td>1</td>\n",
       "      <td>0.001</td>\n",
       "      <td>106303.0</td>\n",
       "      <td>GRD</td>\n",
       "      <td>15705.000000</td>\n",
       "      <td>2999.511359</td>\n",
       "    </tr>\n",
       "    <tr>\n",
       "      <th>15</th>\n",
       "      <td>2</td>\n",
       "      <td>Jamaica</td>\n",
       "      <td>6</td>\n",
       "      <td>jamaica</td>\n",
       "      <td>16</td>\n",
       "      <td>3</td>\n",
       "      <td>11</td>\n",
       "      <td>0.022</td>\n",
       "      <td>2721252.0</td>\n",
       "      <td>JAM</td>\n",
       "      <td>7852.500000</td>\n",
       "      <td>1288.902173</td>\n",
       "    </tr>\n",
       "    <tr>\n",
       "      <th>18</th>\n",
       "      <td>5</td>\n",
       "      <td>New Zealand</td>\n",
       "      <td>4</td>\n",
       "      <td>new-zealand</td>\n",
       "      <td>19</td>\n",
       "      <td>9</td>\n",
       "      <td>18</td>\n",
       "      <td>0.147</td>\n",
       "      <td>4509700.0</td>\n",
       "      <td>NZL</td>\n",
       "      <td>1923.061224</td>\n",
       "      <td>1272.684881</td>\n",
       "    </tr>\n",
       "    <tr>\n",
       "      <th>27</th>\n",
       "      <td>7</td>\n",
       "      <td>Denmark</td>\n",
       "      <td>2</td>\n",
       "      <td>denmark</td>\n",
       "      <td>28</td>\n",
       "      <td>6</td>\n",
       "      <td>15</td>\n",
       "      <td>0.225</td>\n",
       "      <td>5639565.0</td>\n",
       "      <td>DNK</td>\n",
       "      <td>1047.000000</td>\n",
       "      <td>848.089496</td>\n",
       "    </tr>\n",
       "    <tr>\n",
       "      <th>16</th>\n",
       "      <td>2</td>\n",
       "      <td>Croatia</td>\n",
       "      <td>5</td>\n",
       "      <td>croatia</td>\n",
       "      <td>17</td>\n",
       "      <td>3</td>\n",
       "      <td>10</td>\n",
       "      <td>0.079</td>\n",
       "      <td>4236400.0</td>\n",
       "      <td>HRV</td>\n",
       "      <td>1987.974684</td>\n",
       "      <td>752.660410</td>\n",
       "    </tr>\n",
       "  </tbody>\n",
       "</table>\n",
       "</div>"
      ],
      "text/plain": [
       "    bronze_count country_name  gold_count           id  place  silver_count  \\\n",
       "69             0      Grenada           0      grenada     69             1   \n",
       "15             2      Jamaica           6      jamaica     16             3   \n",
       "18             5  New Zealand           4  new-zealand     19             9   \n",
       "27             7      Denmark           2      denmark     28             6   \n",
       "16             2      Croatia           5      croatia     17             3   \n",
       "\n",
       "    total_count    GDP  Population code  medalspergdp  medalsperpop  \n",
       "69            1  0.001    106303.0  GRD  15705.000000   2999.511359  \n",
       "15           11  0.022   2721252.0  JAM   7852.500000   1288.902173  \n",
       "18           18  0.147   4509700.0  NZL   1923.061224   1272.684881  \n",
       "27           15  0.225   5639565.0  DNK   1047.000000    848.089496  \n",
       "16           10  0.079   4236400.0  HRV   1987.974684    752.660410  "
      ]
     },
     "execution_count": 103,
     "metadata": {},
     "output_type": "execute_result"
    }
   ],
   "source": [
    "medalsDF.loc[:, 'medalsperpop'] = pd.Series(col, index=medalsDF.index)\n",
    "medalsDF.loc[:, 'medalsperpop'] = medalsDF.loc[:, 'total_count'] \\\n",
    "                                  / medalsDF.loc[:, 'Population'] \\\n",
    "                                  * medalsDF.loc[(medalsDF.country_name == 'United States'),'Population'].values\n",
    "medalsDF.sort_values(by='medalsperpop', ascending=False).head()"
   ]
  },
  {
   "cell_type": "markdown",
   "metadata": {
    "nbpresent": {
     "id": "61dd514b-8ff9-4186-a01a-c76ab1fb76ee"
    }
   },
   "source": [
    "# Map Population-weighted Total Medal Count in Red"
   ]
  },
  {
   "cell_type": "code",
   "execution_count": 93,
   "metadata": {
    "collapsed": false,
    "nbpresent": {
     "id": "21aa1b54-cb6a-4424-83c9-4e395c4bc6d9"
    }
   },
   "outputs": [
    {
     "data": {
      "text/html": [
       "<meta name=\"viewport\" content=\"width=device-width, initial-scale=1, maximum-scale=1\"/><meta http-equiv=\"X-UA-Compatible\" content=\"IE=10; IE=9; IE=8; IE=7; IE=EDGE\"/><meta charset=\"UTF-8\"/><link href=\"//fonts.googleapis.com/css?family=Open+Sans:400,700\" rel=\"stylesheet\" type=\"text/css\"/><link rel=\"stylesheet\" href=\"http://public.lightning-viz.org/css/app.css\"/><div id=\"lightning-body\" class=\"container content wrap push\"><div class=\"feed-container\"><div data-model=\"visualization\" data-model-id=\"172f729f-8a78-48d9-b299-24faa623d73c\" class=\"feed-item-container\"><div data-type=\"lightning-map\" data-data=\"{&quot;colormap&quot;:&quot;Reds&quot;,&quot;regions&quot;:[&quot;USA&quot;,&quot;GBR&quot;,&quot;CHN&quot;,&quot;RUS&quot;,&quot;DEU&quot;,&quot;JPN&quot;,&quot;FRA&quot;,&quot;KOR&quot;,&quot;ITA&quot;,&quot;AUS&quot;,&quot;NLD&quot;,&quot;HUN&quot;,&quot;BRA&quot;,&quot;ESP&quot;,&quot;KEN&quot;,&quot;JAM&quot;,&quot;HRV&quot;,&quot;CUB&quot;,&quot;NZL&quot;,&quot;CAN&quot;,&quot;UZB&quot;,&quot;KAZ&quot;,&quot;COL&quot;,&quot;CHE&quot;,&quot;GRC&quot;,&quot;ARG&quot;,&quot;DNK&quot;,&quot;SWE&quot;,&quot;ZAF&quot;,&quot;UKR&quot;,&quot;SER&quot;,&quot;POL&quot;,&quot;BEL&quot;,&quot;THA&quot;,&quot;GEO&quot;,&quot;AZE&quot;,&quot;BLR&quot;,&quot;TUR&quot;,&quot;ARM&quot;,&quot;CZE&quot;,&quot;ETH&quot;,&quot;SVN&quot;,&quot;IDN&quot;,&quot;ROM&quot;,&quot;BHR&quot;,&quot;VNM&quot;,&quot;CIV&quot;,&quot;FJI&quot;,&quot;JOR&quot;,&quot;SIN&quot;,&quot;TJK&quot;,&quot;MYS&quot;,&quot;MEX&quot;,&quot;DZA&quot;,&quot;IRL&quot;,&quot;LTU&quot;,&quot;BGR&quot;,&quot;VEN&quot;,&quot;IND&quot;,&quot;MNG&quot;,&quot;BDI&quot;,&quot;GRD&quot;,&quot;NER&quot;,&quot;PHL&quot;,&quot;QAT&quot;,&quot;NOR&quot;,&quot;EGY&quot;,&quot;TUN&quot;,&quot;ISR&quot;,&quot;AUT&quot;,&quot;DOM&quot;,&quot;EST&quot;,&quot;FIN&quot;,&quot;MAR&quot;,&quot;MDA&quot;,&quot;NGA&quot;,&quot;PRT&quot;,&quot;TTO&quot;,&quot;ARE&quot;],&quot;values&quot;:[121,331.1625830858589,16.44343803503809,124.43202185365853,165.55913343764436,102.83138676554567,202.29184627839624,132.79398999939613,145.55793069454842,393.63835275318746,359.45284704693194,484.9943655604886,29.986507021329665,116.81104283579461,91.01004584817365,1288.9021729703827,752.6604097818904,311.5332768372471,1272.6848810342153,197.376829800459,134.83424340896153,313.52508246375425,52.13308348919979,272.5197783847069,174.59278427850998,30.51035596023025,848.0894962643396,361.9802577104934,59.04546748522225,77.103944989624,0,92.31158792393705,170.43269990477683,28.459651203758145,495.548365267201,601.7544053816055,303.0320489968321,33.63603221751066,427.42375946300086,303.3681116697236,26.4320936377541,618.4740042032413,3.783721662690824,0,474.4504821402399,7.028701774495756,30.652297016059872,359.46713685152764,48.26048978356288,59.04760296296296,37.91878531283406,52.81207010915898,12.87799183540865,15.971222882486732,138.25123793580315,435.4003378937727,132.37374027699687,31.00581935768566,0.5031664680804802,221.31977240348925,30.417304158297362,2999.511359039726,17.203154152928096,3.185496683120656,140.5947380767189,248.30807586915154,11.471502297265756,86.98790244257316,77.62517643908318,37.36098832830355,30.283830283616016,242.72695895770926,58.360291646746944,9.520136217490096,89.65725340231695,1.7861448907942075,30.66701970388154,237.20335804379442,33.757119275550245]}\" data-images=\"null\" data-options=\"{&quot;width&quot;:600,&quot;height&quot;:300,&quot;description&quot;:null}\" id=\"viz-172f729f-8a78-48d9-b299-24faa623d73c\" data-initialized=\"false\" class=\"feed-item\"></div></div></div></div><script>window.lightning = window.lightning || {};\n",
       "window.lightning.host = \"http://public.lightning-viz.org/\" || 'http://127.0.0.1:3000/';\n",
       "window.lightning.vizCount = (window.lightning.vizCount + 1) || 1;\n",
       "window.lightning.requiredVizTypes = window.lightning.requiredVizTypes || [];\n",
       "if(window.lightning.requiredVizTypes.indexOf(\"map\") === -1) {\n",
       "    window.lightning.requiredVizTypes.push(\"map\");\n",
       "}\n",
       "window._require = window.require;\n",
       "window.require = undefined;\n",
       "window._define = window.define;\n",
       "window.define = undefined;</script><script src=\"http://public.lightning-viz.org/js/embed.js\"></script>"
      ],
      "text/plain": [
       "<lightning.types.plots.Map at 0x27a250524a8>"
      ]
     },
     "execution_count": 93,
     "metadata": {},
     "output_type": "execute_result"
    }
   ],
   "source": [
    "values = medalsDF.loc[medalsDF.loc[:, 'code'].notnull(), 'medalsperpop']\n",
    "values = list(values.fillna(0))\n",
    "lgn.map(mycountries, values, colormap='Reds', width=600, height=300)"
   ]
  }
 ],
 "metadata": {
  "kernelspec": {
   "display_name": "Python [Root]",
   "language": "python",
   "name": "Python [Root]"
  },
  "language_info": {
   "codemirror_mode": {
    "name": "ipython",
    "version": 3
   },
   "file_extension": ".py",
   "mimetype": "text/x-python",
   "name": "python",
   "nbconvert_exporter": "python",
   "pygments_lexer": "ipython3",
   "version": "3.5.2"
  },
  "nbpresent": {
   "slides": {
    "1123d55d-c593-4866-b6e0-2d464a6af819": {
     "id": "1123d55d-c593-4866-b6e0-2d464a6af819",
     "prev": "1ee34f67-b96d-4352-b97c-9c8e94a345c0",
     "regions": {
      "212b7f65-18e8-4951-8193-f51e5b2c5ad2": {
       "attrs": {
        "height": 0.8,
        "width": 0.8,
        "x": 0.1,
        "y": 0.1
       },
       "content": {
        "cell": "2e7165f9-fa62-4426-adba-aff39fcf739e",
        "part": "whole"
       },
       "id": "212b7f65-18e8-4951-8193-f51e5b2c5ad2"
      }
     }
    },
    "1ee34f67-b96d-4352-b97c-9c8e94a345c0": {
     "id": "1ee34f67-b96d-4352-b97c-9c8e94a345c0",
     "prev": "5419a642-5daf-4468-a99a-5387f8ac1a1c",
     "regions": {
      "8143c5f9-7057-4b5d-a7b9-af8b03c379fa": {
       "attrs": {
        "height": 0.8,
        "width": 0.8,
        "x": 0.1,
        "y": 0.1
       },
       "content": {
        "cell": "f864e5ad-389f-4cf0-9a0f-b67cdc8c9a47",
        "part": "whole"
       },
       "id": "8143c5f9-7057-4b5d-a7b9-af8b03c379fa"
      }
     }
    },
    "1f55bbfd-1cd3-4c54-b703-a6be937b766a": {
     "id": "1f55bbfd-1cd3-4c54-b703-a6be937b766a",
     "prev": "7415115b-2c3a-411c-a663-954470a3f87c",
     "regions": {
      "db175e93-1ba3-462e-a0fb-13b939bd75c0": {
       "attrs": {
        "height": 0.8,
        "width": 0.8,
        "x": 0.1,
        "y": 0.1
       },
       "content": {
        "cell": "3c4915cb-90da-49d8-8391-b79ec36fe69e",
        "part": "whole"
       },
       "id": "db175e93-1ba3-462e-a0fb-13b939bd75c0"
      }
     }
    },
    "26215805-6fc6-4e1a-8b53-8ad45f4d7baf": {
     "id": "26215805-6fc6-4e1a-8b53-8ad45f4d7baf",
     "prev": "9f29df54-63d9-4fd3-9fb0-474ba20c112b",
     "regions": {
      "fa01f0f3-b9b2-426b-916a-01d2c477995b": {
       "attrs": {
        "height": 0.8,
        "width": 0.8,
        "x": 0.1,
        "y": 0.1
       },
       "content": {
        "cell": "f0da5ae8-7a99-49d4-92d9-912f484365e3",
        "part": "whole"
       },
       "id": "fa01f0f3-b9b2-426b-916a-01d2c477995b"
      }
     }
    },
    "4b09ece9-8401-49a2-8cea-ee9ba68c6146": {
     "id": "4b09ece9-8401-49a2-8cea-ee9ba68c6146",
     "prev": "e257ff18-c984-462c-9f6e-2046ed7993be",
     "regions": {
      "a5f1739f-d754-4e02-be6c-7d0c02fda22d": {
       "attrs": {
        "height": 0.8,
        "width": 0.8,
        "x": 0.1,
        "y": 0.1
       },
       "content": {
        "cell": "613c3ec9-8494-49f2-b762-fed80bcfca1c",
        "part": "whole"
       },
       "id": "a5f1739f-d754-4e02-be6c-7d0c02fda22d"
      }
     }
    },
    "4e1ba92b-f92c-4439-8fed-9cc9fa71c2a9": {
     "id": "4e1ba92b-f92c-4439-8fed-9cc9fa71c2a9",
     "prev": "988753bf-377e-4555-a9cf-3927a98a4774",
     "regions": {
      "f234f329-06bd-4291-a150-0c01bea72b3f": {
       "attrs": {
        "height": 0.8,
        "width": 0.8,
        "x": 0.1,
        "y": 0.1
       },
       "content": {
        "cell": "e54d6afc-7a75-4024-9b16-44733b64a3b9",
        "part": "whole"
       },
       "id": "f234f329-06bd-4291-a150-0c01bea72b3f"
      }
     }
    },
    "5419a642-5daf-4468-a99a-5387f8ac1a1c": {
     "id": "5419a642-5daf-4468-a99a-5387f8ac1a1c",
     "prev": "a505d4ce-0412-4c9e-b4a6-30c3c705896d",
     "regions": {
      "35da66f5-0fe5-4de3-9117-66d4c3d1727e": {
       "attrs": {
        "height": 0.8,
        "width": 0.8,
        "x": 0.1,
        "y": 0.1
       },
       "content": {
        "cell": "0b6ee8d0-0855-43c3-bcc9-dd9fae29f841",
        "part": "whole"
       },
       "id": "35da66f5-0fe5-4de3-9117-66d4c3d1727e"
      }
     }
    },
    "59515f68-134a-4984-9d04-e92657fca6ab": {
     "id": "59515f68-134a-4984-9d04-e92657fca6ab",
     "prev": "dcf4f156-ed52-45a3-b25c-901738c0a6a1",
     "regions": {
      "507ad95c-35ea-4d8b-90c7-978bccb4413e": {
       "attrs": {
        "height": 0.8,
        "width": 0.8,
        "x": 0.1,
        "y": 0.1
       },
       "content": {
        "cell": "21aa1b54-cb6a-4424-83c9-4e395c4bc6d9",
        "part": "whole"
       },
       "id": "507ad95c-35ea-4d8b-90c7-978bccb4413e"
      }
     }
    },
    "71adb652-8487-4502-ae18-1b2d04ce46dd": {
     "id": "71adb652-8487-4502-ae18-1b2d04ce46dd",
     "prev": null,
     "regions": {
      "a9b4b02f-f991-445a-8082-cf981ba16f07": {
       "attrs": {
        "height": 0.8,
        "width": 0.8,
        "x": 0.1,
        "y": 0.1
       },
       "content": {
        "cell": "ce3dd29c-c38e-4d8c-a7f7-427d716b54b2",
        "part": "whole"
       },
       "id": "a9b4b02f-f991-445a-8082-cf981ba16f07"
      }
     }
    },
    "7415115b-2c3a-411c-a663-954470a3f87c": {
     "id": "7415115b-2c3a-411c-a663-954470a3f87c",
     "prev": "84babf6f-ec01-4fc9-b712-8c44eb5db7dc",
     "regions": {
      "47a63248-54a4-4e47-aa8b-0f9489e0d997": {
       "attrs": {
        "height": 0.8,
        "width": 0.8,
        "x": 0.1,
        "y": 0.1
       },
       "content": {
        "cell": "26f59730-f3a6-44e4-9827-57239fd64179",
        "part": "whole"
       },
       "id": "47a63248-54a4-4e47-aa8b-0f9489e0d997"
      }
     }
    },
    "84babf6f-ec01-4fc9-b712-8c44eb5db7dc": {
     "id": "84babf6f-ec01-4fc9-b712-8c44eb5db7dc",
     "prev": "8b56e192-83a9-4fb8-a696-f89a0d4c94cf",
     "regions": {
      "94b34910-f4f4-4b99-a5f2-d41b8a5b5a68": {
       "attrs": {
        "height": 0.8,
        "width": 0.8,
        "x": 0.1,
        "y": 0.1
       },
       "content": {
        "cell": "e67d5df2-92b7-475a-85ae-0b2c7c46c694",
        "part": "whole"
       },
       "id": "94b34910-f4f4-4b99-a5f2-d41b8a5b5a68"
      }
     }
    },
    "876fae56-275e-4c6d-94b7-47cc0ef19f60": {
     "id": "876fae56-275e-4c6d-94b7-47cc0ef19f60",
     "prev": "71adb652-8487-4502-ae18-1b2d04ce46dd",
     "regions": {
      "cc1a1045-f60b-4af2-830d-47f803895b62": {
       "attrs": {
        "height": 0.8,
        "width": 0.8,
        "x": 0.1,
        "y": 0.1
       },
       "content": {
        "cell": "667f53b3-acf2-45d8-9d4c-a019332495ce",
        "part": "whole"
       },
       "id": "cc1a1045-f60b-4af2-830d-47f803895b62"
      }
     }
    },
    "8a614076-9c76-40f4-ab2a-0e786fde3bc5": {
     "id": "8a614076-9c76-40f4-ab2a-0e786fde3bc5",
     "prev": "f73b5721-123a-49a6-b6df-ee1b8cfb8687",
     "regions": {
      "5d9b6cf7-057c-4519-831c-d49571594999": {
       "attrs": {
        "height": 0.8,
        "width": 0.8,
        "x": 0.1,
        "y": 0.1
       },
       "content": {
        "cell": "0850bf43-fae4-4bcb-937f-ae0818c4dad4",
        "part": "whole"
       },
       "id": "5d9b6cf7-057c-4519-831c-d49571594999"
      }
     }
    },
    "8b56e192-83a9-4fb8-a696-f89a0d4c94cf": {
     "id": "8b56e192-83a9-4fb8-a696-f89a0d4c94cf",
     "prev": "c2e02c72-04db-42e0-b801-f5aa0c85ff40",
     "regions": {
      "50d50303-371d-4388-a377-5930187d9212": {
       "attrs": {
        "height": 0.8,
        "width": 0.8,
        "x": 0.1,
        "y": 0.1
       },
       "content": {
        "cell": "5e913202-e0a7-4c98-9779-9ace203a1968",
        "part": "whole"
       },
       "id": "50d50303-371d-4388-a377-5930187d9212"
      }
     }
    },
    "988753bf-377e-4555-a9cf-3927a98a4774": {
     "id": "988753bf-377e-4555-a9cf-3927a98a4774",
     "prev": "9cc6c93e-60aa-4834-8304-3541401b6c11",
     "regions": {
      "847cddbc-4fd7-4d81-a1b8-bbfecb234209": {
       "attrs": {
        "height": 0.8,
        "width": 0.8,
        "x": 0.1,
        "y": 0.1
       },
       "content": {
        "cell": "f0899016-e2e1-4030-a0ef-7d0353e598eb",
        "part": "whole"
       },
       "id": "847cddbc-4fd7-4d81-a1b8-bbfecb234209"
      }
     }
    },
    "9cc6c93e-60aa-4834-8304-3541401b6c11": {
     "id": "9cc6c93e-60aa-4834-8304-3541401b6c11",
     "prev": "4b09ece9-8401-49a2-8cea-ee9ba68c6146",
     "regions": {
      "e6e6f6d4-a5cf-4993-a81d-4577766ff90e": {
       "attrs": {
        "height": 0.8,
        "width": 0.8,
        "x": 0.1,
        "y": 0.1
       },
       "content": {
        "cell": "4c77b6f0-1aa5-4b5b-af51-d7f396e20d95",
        "part": "whole"
       },
       "id": "e6e6f6d4-a5cf-4993-a81d-4577766ff90e"
      }
     }
    },
    "9f29df54-63d9-4fd3-9fb0-474ba20c112b": {
     "id": "9f29df54-63d9-4fd3-9fb0-474ba20c112b",
     "prev": "4e1ba92b-f92c-4439-8fed-9cc9fa71c2a9",
     "regions": {
      "a511bd6f-93a9-4728-b049-d2f20f8b2b7b": {
       "attrs": {
        "height": 0.8,
        "width": 0.8,
        "x": 0.1,
        "y": 0.1
       },
       "content": {
        "cell": "03969411-7dc3-4c49-a7e6-dfceb2962226",
        "part": "whole"
       },
       "id": "a511bd6f-93a9-4728-b049-d2f20f8b2b7b"
      }
     }
    },
    "a505d4ce-0412-4c9e-b4a6-30c3c705896d": {
     "id": "a505d4ce-0412-4c9e-b4a6-30c3c705896d",
     "prev": "26215805-6fc6-4e1a-8b53-8ad45f4d7baf",
     "regions": {
      "697cb594-44fc-4d61-8ef8-e56aa659195c": {
       "attrs": {
        "height": 0.8,
        "width": 0.8,
        "x": 0.1,
        "y": 0.1
       },
       "content": {
        "cell": "7df1f92e-ab2a-4ecc-95a1-6bd78aa24911",
        "part": "whole"
       },
       "id": "697cb594-44fc-4d61-8ef8-e56aa659195c"
      }
     }
    },
    "c2e02c72-04db-42e0-b801-f5aa0c85ff40": {
     "id": "c2e02c72-04db-42e0-b801-f5aa0c85ff40",
     "prev": "876fae56-275e-4c6d-94b7-47cc0ef19f60",
     "regions": {
      "b8d1964d-e2db-477f-bbfc-20b2c75286b7": {
       "attrs": {
        "height": 0.8,
        "width": 0.8,
        "x": 0.1,
        "y": 0.1
       },
       "content": {
        "cell": "bb8ef49b-47eb-4b70-aa6d-3a85264e9f96",
        "part": "whole"
       },
       "id": "b8d1964d-e2db-477f-bbfc-20b2c75286b7"
      }
     }
    },
    "dcd2a965-abd2-4d19-9b36-60f32d168d58": {
     "id": "dcd2a965-abd2-4d19-9b36-60f32d168d58",
     "prev": "1f55bbfd-1cd3-4c54-b703-a6be937b766a",
     "regions": {
      "e943d770-d185-4cf8-a8b8-08d44ea7cffd": {
       "attrs": {
        "height": 0.8,
        "width": 0.8,
        "x": 0.1,
        "y": 0.1
       },
       "content": {
        "cell": "1a0ee163-40ae-477b-a6ed-ac56dbd2d0ea",
        "part": "whole"
       },
       "id": "e943d770-d185-4cf8-a8b8-08d44ea7cffd"
      }
     }
    },
    "dcf4f156-ed52-45a3-b25c-901738c0a6a1": {
     "id": "dcf4f156-ed52-45a3-b25c-901738c0a6a1",
     "prev": "8a614076-9c76-40f4-ab2a-0e786fde3bc5",
     "regions": {
      "d68a85f7-a0b3-4eff-9c25-7a04aac90087": {
       "attrs": {
        "height": 0.8,
        "width": 0.8,
        "x": 0.1,
        "y": 0.1
       },
       "content": {
        "cell": "61dd514b-8ff9-4186-a01a-c76ab1fb76ee",
        "part": "whole"
       },
       "id": "d68a85f7-a0b3-4eff-9c25-7a04aac90087"
      }
     }
    },
    "e257ff18-c984-462c-9f6e-2046ed7993be": {
     "id": "e257ff18-c984-462c-9f6e-2046ed7993be",
     "prev": "dcd2a965-abd2-4d19-9b36-60f32d168d58",
     "regions": {
      "ca196497-28b5-431a-9275-c1092f4209de": {
       "attrs": {
        "height": 0.8,
        "width": 0.8,
        "x": 0.1,
        "y": 0.1
       },
       "content": {
        "cell": "ddf92a3a-7ee5-4258-8578-327b98373822",
        "part": "whole"
       },
       "id": "ca196497-28b5-431a-9275-c1092f4209de"
      }
     }
    },
    "f176275c-1684-453b-b355-8ee074b7bf07": {
     "id": "f176275c-1684-453b-b355-8ee074b7bf07",
     "prev": "1123d55d-c593-4866-b6e0-2d464a6af819",
     "regions": {
      "61e0ea83-382e-4cc8-8c01-7a63db327c87": {
       "attrs": {
        "height": 0.8,
        "width": 0.8,
        "x": 0.1,
        "y": 0.1
       },
       "content": {
        "cell": "751942d1-992a-491e-bd38-f0b15a49566d",
        "part": "whole"
       },
       "id": "61e0ea83-382e-4cc8-8c01-7a63db327c87"
      }
     }
    },
    "f73b5721-123a-49a6-b6df-ee1b8cfb8687": {
     "id": "f73b5721-123a-49a6-b6df-ee1b8cfb8687",
     "prev": "f176275c-1684-453b-b355-8ee074b7bf07",
     "regions": {
      "2f8d8d45-46d2-48d1-9a6c-a53203a22f7c": {
       "attrs": {
        "height": 0.8,
        "width": 0.8,
        "x": 0.1,
        "y": 0.1
       },
       "content": {
        "cell": "8f722e75-e78f-43dd-953f-26506f74dc3e",
        "part": "whole"
       },
       "id": "2f8d8d45-46d2-48d1-9a6c-a53203a22f7c"
      }
     }
    }
   },
   "themes": {}
  }
 },
 "nbformat": 4,
 "nbformat_minor": 0
}
